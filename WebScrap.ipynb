{
  "nbformat": 4,
  "nbformat_minor": 0,
  "metadata": {
    "colab": {
      "provenance": [],
      "authorship_tag": "ABX9TyP1VZkcnKLk4AaasHJhh72o",
      "include_colab_link": true
    },
    "kernelspec": {
      "name": "python3",
      "display_name": "Python 3"
    },
    "language_info": {
      "name": "python"
    }
  },
  "cells": [
    {
      "cell_type": "markdown",
      "metadata": {
        "id": "view-in-github",
        "colab_type": "text"
      },
      "source": [
        "<a href=\"https://colab.research.google.com/github/Madhav1716/100-days-of-javascript/blob/master/WebScrap.ipynb\" target=\"_parent\"><img src=\"https://colab.research.google.com/assets/colab-badge.svg\" alt=\"Open In Colab\"/></a>"
      ]
    },
    {
      "cell_type": "code",
      "execution_count": 1,
      "metadata": {
        "colab": {
          "base_uri": "https://localhost:8080/"
        },
        "id": "-oCG7u9xG5V4",
        "outputId": "8cf35118-8ef0-4a6a-d04b-4209f72a9e1f"
      },
      "outputs": [
        {
          "output_type": "stream",
          "name": "stdout",
          "text": [
            "[['Lightweight CSMS Routine for Bright & Younger-looking Glow', 'Brightens Skin | Reduces Fine Lines, Wrinkles | Acne Control | Boosts Collagen', 'Rs. 1,650', 'Rs. 1,099', '33% OFF'], ['30X Vitamin C Serum for Bouncier & Brighter Skin, Dermatologically Tested', 'Instant Brightening | Dewy, Smooth Skin | Reduces Fine Lines, Wrinkles', 'Rs. 1,650', 'Rs. 899', '46% OFF'], ['Hyaluronic Invisible Sunscreen Gel', '1000x the Plump | De-Tan & Anti-Tan | 50+ SPF PA++++ | Normal to Oily Skin | Controls Acne | 6 Hrs. Protection', 'Rs. 400', 'Rs. 319', '20% OFF'], ['Kumkumadi Instant Brightening Ubtan Face Wash', 'Skin Lightening and Brightening | Gentle Cleansing', 'Rs. 350', 'Rs. 279', '20% OFF'], ['Kumkumadi Tailam Oil with Saffron and Almond for Skin Lightening, Pigmentation Control, 30ml', 'The revolutionary rare & exotic age-old Ayurvedic facial oil for skin lightening & to delay signs of ageing', 'Rs. 1,800', 'Rs. 1,399', '22% OFF'], ['Aloe Vera Gel with Vitamin C & Tea Tree for Frizzy Hair & Dandruff Free Hair', 'Brightening Gel Moisturiser for oily, acne prone skin, controls frizz & defines curls & waves.', 'Rs. 350', 'Rs. 249', '29% OFF'], ['Salicylic Acid Tea Tree Acne Free Face Wash 100ml - Tube', '', 'Rs. 350', 'Rs. 149', '57% OFF'], ['Ceramide Face Gel Moisturizer', 'Super Light | Instant Hydration | Skin Barrier Repair | Gives Clear & Fresh Skin', 'Rs. 350', 'Rs. 249', '29% OFF'], ['Sandalwood Soap Proven to Lighten & Brighten Skin', 'Naturally Radiant Skin | Removes Body Tan | Baby-soft Skin', 'Rs. 400', 'Rs. 299', '25% OFF'], ['Vitamin C Green Tea Brightening Face Wash 100ml - Tube', 'A daily, gentle exfoliating, acne-fighting face cleanser.', 'Rs. 350', 'Rs. 149', '57% OFF'], ['Kumkumadi Tailam Oil with Saffron and Almond for Skin Moisturizing, Glowing, Pigmentation Control, 12ml', 'The revolutionary rare & exotic age-old Ayurvedic facial oil for skin lightening & to delay signs of ageing', 'Rs. 1,000', 'Rs. 799', '20% OFF'], ['Aloe Vera Soap for Acne & Scar Free Face & Skin', 'Gentle moisturizer for soft & glowing skin.', 'Rs. 400', 'Rs. 299', '25% OFF'], ['30% AHA Exfoliating & Repairing Serum', 'A unique concentrated formula to limit acne & improve skin complexion.', 'Rs. 1,800', 'Rs. 599', '67% OFF'], ['Vitamin C Rich Orange Carrot Soap', 'A tranquil cleanser for clear & revitalized skin.', 'Rs. 400', 'Rs. 299', '25% OFF'], ['20% Vitamin C Face Brightening Serum', 'Intensive glow boosting serum, packed with powerful Vitamin C to reduce dark spots, blemishes and pigmentation', 'Rs. 1,800', 'Rs. 599', '67% OFF'], ['Cold Pressed Olive Oil for Nourished Hair and Skin', 'The antioxidant cold pressed moisturiser oil for deep nourishment of skin and hair', 'Rs. 350', 'Rs. 279', '20% OFF']]\n"
          ]
        }
      ],
      "source": [
        "import urllib.request\n",
        "from bs4 import BeautifulSoup\n",
        "\n",
        "url = 'https://www.soulflower.in/collections/skin-care'\n",
        "\n",
        "response = urllib.request.urlopen(url)\n",
        "\n",
        "data = response.read()\n",
        "\n",
        "html_content = data.decode('utf-8')\n",
        "\n",
        "soup = BeautifulSoup(html_content)\n",
        "\n",
        "parent_grid = soup.find(id=\"product-grid\")\n",
        "\n",
        "all_grids = parent_grid.find_all(\"li\", {\"class\": \"grid__item\"})\n",
        "\n",
        "product = []\n",
        "\n",
        "for x in all_grids:\n",
        "\n",
        "  Product_Info = []\n",
        "  title = x.find(\"h3\", {\"class\": \"card__heading\"}).find(\"a\", {\"class\":\"full-unstyled-link\"}).text.strip()\n",
        "  Info = x.find(\"div\", {\"class\": \"card-information\"}).find(\"div\", {\"class\":\"caption-with-letter-spacing\"}).text.strip()\n",
        "  reg_price = x.find(\"div\", {\"class\": \"price__sale\"}).find(\"s\", {\"class\":\"price-item\"}).text.strip()\n",
        "  disc_price = x.find(\"div\", {\"class\": \"price__sale\"}).find(\"span\", {\"class\":\"price-item\"}).text.strip()\n",
        "  off = x.find(\"div\", {\"class\": \"card__badge\"}).find(\"span\", {\"class\":\"badge\"}).text.strip()\n",
        "\n",
        "  Product_Info.append(title)\n",
        "  Product_Info.append(Info)\n",
        "  Product_Info.append(reg_price)\n",
        "  Product_Info.append(disc_price)\n",
        "  Product_Info.append(off)\n",
        "  product.append(Product_Info)\n",
        "\n",
        "print(product)"
      ]
    },
    {
      "cell_type": "code",
      "source": [
        "import urllib.request\n",
        "from bs4 import BeautifulSoup\n",
        "from prettytable import PrettyTable\n",
        "\n",
        "url = 'https://www.soulflower.in/collections/skin-care'\n",
        "\n",
        "response = urllib.request.urlopen(url)\n",
        "\n",
        "data = response.read()\n",
        "\n",
        "html_content = data.decode('utf-8')\n",
        "\n",
        "soup = BeautifulSoup(html_content, 'html.parser')\n",
        "\n",
        "parent_grid = soup.find(id=\"product-grid\")\n",
        "\n",
        "all_grids = parent_grid.find_all(\"li\", {\"class\": \"grid__item\"})\n",
        "\n",
        "# Create a PrettyTable instance with headers\n",
        "table = PrettyTable()\n",
        "table.field_names = [\"Title\", \"Info\", \"Regular Price\", \"Discounted Price\", \"Discount\", \"Image URL\"]\n",
        "\n",
        "for x in all_grids:\n",
        "    title = x.find(\"h3\", {\"class\": \"card__heading\"}).find(\"a\", {\"class\": \"full-unstyled-link\"}).text.strip()\n",
        "    Info = x.find(\"div\", {\"class\": \"card-information\"}).find(\"div\", {\"class\": \"caption-with-letter-spacing\"}).text.strip()\n",
        "    reg_price = x.find(\"div\", {\"class\": \"price__sale\"}).find(\"s\", {\"class\": \"price-item\"}).text.strip()\n",
        "    disc_price = x.find(\"div\", {\"class\": \"price__sale\"}).find(\"span\", {\"class\": \"price-item\"}).text.strip()\n",
        "    off = x.find(\"div\", {\"class\": \"card__badge\"}).find(\"span\", {\"class\": \"badge\"}).text.strip()\n",
        "    img_tag = x.find(\"img\")\n",
        "    img_url = img_tag.get(\"src\") if img_tag else None\n",
        "\n",
        "    # Add each product to the table\n",
        "    table.add_row([title, Info, reg_price, disc_price, off, img_url])\n",
        "\n",
        "# Print the table\n",
        "print(table)\n"
      ],
      "metadata": {
        "colab": {
          "base_uri": "https://localhost:8080/"
        },
        "id": "9y2U2EH1HIxh",
        "outputId": "a8fb85f8-9957-4a35-8ec2-6023decd405f"
      },
      "execution_count": 2,
      "outputs": [
        {
          "output_type": "stream",
          "name": "stdout",
          "text": [
            "+---------------------------------------------------------------------------------------------------------+----------------------------------------------------------------------------------------------------------------+---------------+------------------+----------+---------------------------------------------------------------------------------------------------------------------------+\n",
            "|                                                  Title                                                  |                                                      Info                                                      | Regular Price | Discounted Price | Discount |                                                         Image URL                                                         |\n",
            "+---------------------------------------------------------------------------------------------------------+----------------------------------------------------------------------------------------------------------------+---------------+------------------+----------+---------------------------------------------------------------------------------------------------------------------------+\n",
            "|                        Lightweight CSMS Routine for Bright & Younger-looking Glow                       |                 Brightens Skin | Reduces Fine Lines, Wrinkles | Acne Control | Boosts Collagen                 |   Rs. 1,650   |    Rs. 1,099     | 33% OFF  |                             //www.soulflower.in/cdn/shop/files/CSMS_GROUPSHOT.jpg?v=1725599966                            |\n",
            "|                30X Vitamin C Serum for Bouncier & Brighter Skin, Dermatologically Tested                |                     Instant Brightening | Dewy, Smooth Skin | Reduces Fine Lines, Wrinkles                     |   Rs. 1,650   |     Rs. 899      | 46% OFF  |                              //www.soulflower.in/cdn/shop/files/VITC_SETOF3.jpg?v=1717429344                              |\n",
            "|                                    Hyaluronic Invisible Sunscreen Gel                                   | 1000x the Plump | De-Tan & Anti-Tan | 50+ SPF PA++++ | Normal to Oily Skin | Controls Acne | 6 Hrs. Protection |    Rs. 400    |     Rs. 319      | 20% OFF  |                          //www.soulflower.in/cdn/shop/files/Hyaluronic_sunscreen.jpg?v=1722596502                         |\n",
            "|                              Kumkumadi Instant Brightening Ubtan Face Wash                              |                               Skin Lightening and Brightening | Gentle Cleansing                               |    Rs. 350    |     Rs. 279      | 20% OFF  |                          //www.soulflower.in/cdn/shop/files/KK_FACEWASH_1ST_IMG.jpg?v=1731997400                          |\n",
            "|       Kumkumadi Tailam Oil with Saffron and Almond for Skin Lightening, Pigmentation Control, 30ml      |  The revolutionary rare & exotic age-old Ayurvedic facial oil for skin lightening & to delay signs of ageing   |   Rs. 1,800   |    Rs. 1,399     | 22% OFF  |                                                            None                                                           |\n",
            "|               Aloe Vera Gel with Vitamin C & Tea Tree for Frizzy Hair & Dandruff Free Hair              |         Brightening Gel Moisturiser for oily, acne prone skin, controls frizz & defines curls & waves.         |    Rs. 350    |     Rs. 249      | 29% OFF  |                                //www.soulflower.in/cdn/shop/files/Square_1.jpg?v=1710835288                               |\n",
            "|                         Salicylic Acid Tea Tree Acne Free Face Wash 100ml - Tube                        |                                                                                                                |    Rs. 350    |     Rs. 149      | 57% OFF  |                       //www.soulflower.in/cdn/shop/files/SALYCILIC_TEA_TREE_1ST_IMG.jpg?v=1731997433                      |\n",
            "|                                      Ceramide Face Gel Moisturizer                                      |                Super Light | Instant Hydration | Skin Barrier Repair | Gives Clear & Fresh Skin                |    Rs. 350    |     Rs. 249      | 29% OFF  |                     //www.soulflower.in/cdn/shop/files/Ceramide_Face_Gel_Moisturizer.jpg?v=1724236409                     |\n",
            "|                            Sandalwood Soap Proven to Lighten & Brighten Skin                            |                           Naturally Radiant Skin | Removes Body Tan | Baby-soft Skin                           |    Rs. 400    |     Rs. 299      | 25% OFF  |    //www.soulflower.in/cdn/shop/files/Exfoliating-Sandalwood-Soap_755b8c37-8412-4956-a3fb-cfe90e26e96c.jpg?v=1711805100   |\n",
            "|                          Vitamin C Green Tea Brightening Face Wash 100ml - Tube                         |                           A daily, gentle exfoliating, acne-fighting face cleanser.                            |    Rs. 350    |     Rs. 149      | 57% OFF  |                    //www.soulflower.in/cdn/shop/files/VIT_C_TEA_TREE_FACEWASH_1ST_IMG.jpg?v=1731997549                    |\n",
            "| Kumkumadi Tailam Oil with Saffron and Almond for Skin Moisturizing, Glowing, Pigmentation Control, 12ml |  The revolutionary rare & exotic age-old Ayurvedic facial oil for skin lightening & to delay signs of ageing   |   Rs. 1,000   |     Rs. 799      | 20% OFF  |                             //www.soulflower.in/cdn/shop/files/kumkumadi-12ml.jpg?v=1704710659                            |\n",
            "|                             Aloe Vera Soap for Acne & Scar Free Face & Skin                             |                                  Gentle moisturizer for soft & glowing skin.                                   |    Rs. 400    |     Rs. 299      | 25% OFF  |                             //www.soulflower.in/cdn/shop/files/aloe_vera_soap.jpg?v=1730361188                            |\n",
            "|                                  30% AHA Exfoliating & Repairing Serum                                  |                     A unique concentrated formula to limit acne & improve skin complexion.                     |   Rs. 1,800   |     Rs. 599      | 67% OFF  | //www.soulflower.in/cdn/shop/files/30_AHAExfoliating_RepairingSerum_c1c24eac-80b0-4519-8735-04fe26af6486.jpg?v=1716979410 |\n",
            "|                                    Vitamin C Rich Orange Carrot Soap                                    |                               A tranquil cleanser for clear & revitalized skin.                                |    Rs. 400    |     Rs. 299      | 25% OFF  |                              //www.soulflower.in/cdn/shop/files/Orangecarrot.jpg?v=1710596657                             |\n",
            "|                                   20% Vitamin C Face Brightening Serum                                  | Intensive glow boosting serum, packed with powerful Vitamin C to reduce dark spots, blemishes and pigmentation |   Rs. 1,800   |     Rs. 599      | 67% OFF  |                    //www.soulflower.in/cdn/shop/files/20_VitaminCFaceBrighteningSerum.jpg?v=1716387144                    |\n",
            "|                            Cold Pressed Olive Oil for Nourished Hair and Skin                           |               The antioxidant cold pressed moisturiser oil for deep nourishment of skin and hair               |    Rs. 350    |     Rs. 279      | 20% OFF  |                                                            None                                                           |\n",
            "+---------------------------------------------------------------------------------------------------------+----------------------------------------------------------------------------------------------------------------+---------------+------------------+----------+---------------------------------------------------------------------------------------------------------------------------+\n"
          ]
        }
      ]
    },
    {
      "cell_type": "code",
      "source": [],
      "metadata": {
        "id": "YJdelzQxJLyP"
      },
      "execution_count": null,
      "outputs": []
    }
  ]
}